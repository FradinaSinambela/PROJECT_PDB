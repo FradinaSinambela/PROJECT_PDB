{
  "nbformat": 4,
  "nbformat_minor": 0,
  "metadata": {
    "colab": {
      "name": "Cluster K-Means Spark Mlib ECommerce Data",
      "provenance": []
    },
    "kernelspec": {
      "name": "python3",
      "display_name": "Python 3"
    },
    "language_info": {
      "name": "python"
    }
  },
  "cells": [
    {
      "cell_type": "markdown",
      "metadata": {
        "id": "1ScyRxuj6zq7"
      },
      "source": [
        "# **START SESSION**"
      ]
    },
    {
      "cell_type": "code",
      "metadata": {
        "id": "fOC3ikjUDI-3"
      },
      "source": [
        "!pip install pyspark"
      ],
      "execution_count": null,
      "outputs": []
    },
    {
      "cell_type": "code",
      "metadata": {
        "id": "xLwWO6KP7omy"
      },
      "source": [
        "import pyspark\n",
        "from pyspark.ml.clustering import KMeans\n",
        "from pyspark.ml.clustering import KMeansModel\n",
        "from pyspark.ml.evaluation import ClusteringEvaluator\n",
        "from pyspark.ml.linalg import Vectors\n",
        "from pyspark.ml import Pipeline\n",
        "from pyspark.ml.feature import VectorIndexer\n",
        "\n",
        "import matplotlib.pyplot as plt\n",
        "import pandas as pd\n",
        "import tempfile\n",
        "import numpy as np\n",
        "import seaborn as sns \n",
        "%matplotlib inline"
      ],
      "execution_count": null,
      "outputs": []
    },
    {
      "cell_type": "code",
      "metadata": {
        "id": "8USDHAMBDfMx"
      },
      "source": [
        "import pyspark\n",
        "from pyspark.sql import SparkSession\n",
        "\n",
        "spark = SparkSession.builder \\\n",
        "    .master(\"local[2]\") \\\n",
        "    .appName(\"Proyek PBD Spark Cluster E-Commerce\") \\\n",
        "    .config(\"spark.some.config.option\", \"some-value\") \\\n",
        "    .getOrCreate()"
      ],
      "execution_count": null,
      "outputs": []
    },
    {
      "cell_type": "code",
      "metadata": {
        "colab": {
          "base_uri": "https://localhost:8080/",
          "height": 216
        },
        "id": "WRWWTu7-DyKN",
        "outputId": "28d0bbb1-4bc7-40ff-ef9d-105667115c03"
      },
      "source": [
        "spark"
      ],
      "execution_count": null,
      "outputs": [
        {
          "output_type": "execute_result",
          "data": {
            "text/html": [
              "\n",
              "            <div>\n",
              "                <p><b>SparkSession - in-memory</b></p>\n",
              "                \n",
              "        <div>\n",
              "            <p><b>SparkContext</b></p>\n",
              "\n",
              "            <p><a href=\"http://835f2da49aff:4040\">Spark UI</a></p>\n",
              "\n",
              "            <dl>\n",
              "              <dt>Version</dt>\n",
              "                <dd><code>v3.1.1</code></dd>\n",
              "              <dt>Master</dt>\n",
              "                <dd><code>local[2]</code></dd>\n",
              "              <dt>AppName</dt>\n",
              "                <dd><code>Proyek PBD Spark Cluster E-Commerce</code></dd>\n",
              "            </dl>\n",
              "        </div>\n",
              "        \n",
              "            </div>\n",
              "        "
            ],
            "text/plain": [
              "<pyspark.sql.session.SparkSession at 0x7f052975c750>"
            ]
          },
          "metadata": {
            "tags": []
          },
          "execution_count": 4
        }
      ]
    },
    {
      "cell_type": "markdown",
      "metadata": {
        "id": "b1pRP-T0EDww"
      },
      "source": [
        "# **CONVERT AND LOAD DATA**"
      ]
    },
    {
      "cell_type": "code",
      "metadata": {
        "id": "7unq9C9t63cX",
        "colab": {
          "base_uri": "https://localhost:8080/"
        },
        "outputId": "5edf2cec-46a8-4969-f4e1-2161dcaaaa07"
      },
      "source": [
        "from google.colab import drive\n",
        "drive.mount('/content/drive/')"
      ],
      "execution_count": null,
      "outputs": [
        {
          "output_type": "stream",
          "text": [
            "Mounted at /content/drive/\n"
          ],
          "name": "stdout"
        }
      ]
    },
    {
      "cell_type": "code",
      "metadata": {
        "id": "4nt87tIV68yW"
      },
      "source": [
        "data = spark.read.load(\"/content/drive/MyDrive/PROYEK PBD/dataset/data.csv\",\n",
        "                     format=\"csv\", inferSchema=\"true\", header=\"true\")"
      ],
      "execution_count": null,
      "outputs": []
    },
    {
      "cell_type": "markdown",
      "metadata": {
        "id": "buBCfOUfecet"
      },
      "source": [
        "Konversi format data yang sebelumnya berupa format CSV, menjadi Hadoop Format file dalam format **Parquet**."
      ]
    },
    {
      "cell_type": "code",
      "metadata": {
        "id": "qRUNBMzVtRJs"
      },
      "source": [
        "data.write.format(\"parquet\").mode(\"overwrite\").save(\"/content/drive/MyDrive/PROYEK PBD/dataset/data_parq\")"
      ],
      "execution_count": null,
      "outputs": []
    },
    {
      "cell_type": "code",
      "metadata": {
        "id": "ImG_n0xAuAxA"
      },
      "source": [
        "data_parq = spark.read.load(\"/content/drive/MyDrive/PROYEK PBD/dataset/data_parq\",\n",
        "                     format=\"parquet\", inferSchema=\"true\", header=\"true\")"
      ],
      "execution_count": null,
      "outputs": []
    },
    {
      "cell_type": "markdown",
      "metadata": {
        "id": "6ib98SKiFbvX"
      },
      "source": [
        "# **EXPLORATORY DATA**"
      ]
    },
    {
      "cell_type": "code",
      "metadata": {
        "colab": {
          "base_uri": "https://localhost:8080/"
        },
        "id": "o8JQmHV1E7jC",
        "outputId": "aa4969e1-fe25-4594-c4e5-ff07075f1882"
      },
      "source": [
        "data_parq.show(10)\n",
        "data_parq.printSchema()"
      ],
      "execution_count": null,
      "outputs": [
        {
          "output_type": "stream",
          "text": [
            "+---------+---------+--------------------+--------+--------------+---------+----------+--------------+\n",
            "|InvoiceNo|StockCode|         Description|Quantity|   InvoiceDate|UnitPrice|CustomerID|       Country|\n",
            "+---------+---------+--------------------+--------+--------------+---------+----------+--------------+\n",
            "|   536365|   85123A|WHITE HANGING HEA...|       6|12/1/2010 8:26|     2.55|     17850|United Kingdom|\n",
            "|   536365|    71053| WHITE METAL LANTERN|       6|12/1/2010 8:26|     3.39|     17850|United Kingdom|\n",
            "|   536365|   84406B|CREAM CUPID HEART...|       8|12/1/2010 8:26|     2.75|     17850|United Kingdom|\n",
            "|   536365|   84029G|KNITTED UNION FLA...|       6|12/1/2010 8:26|     3.39|     17850|United Kingdom|\n",
            "|   536365|   84029E|RED WOOLLY HOTTIE...|       6|12/1/2010 8:26|     3.39|     17850|United Kingdom|\n",
            "|   536365|    22752|SET 7 BABUSHKA NE...|       2|12/1/2010 8:26|     7.65|     17850|United Kingdom|\n",
            "|   536365|    21730|GLASS STAR FROSTE...|       6|12/1/2010 8:26|     4.25|     17850|United Kingdom|\n",
            "|   536366|    22633|HAND WARMER UNION...|       6|12/1/2010 8:28|     1.85|     17850|United Kingdom|\n",
            "|   536366|    22632|HAND WARMER RED P...|       6|12/1/2010 8:28|     1.85|     17850|United Kingdom|\n",
            "|   536367|    84879|ASSORTED COLOUR B...|      32|12/1/2010 8:34|     1.69|     13047|United Kingdom|\n",
            "+---------+---------+--------------------+--------+--------------+---------+----------+--------------+\n",
            "only showing top 10 rows\n",
            "\n",
            "root\n",
            " |-- InvoiceNo: string (nullable = true)\n",
            " |-- StockCode: string (nullable = true)\n",
            " |-- Description: string (nullable = true)\n",
            " |-- Quantity: integer (nullable = true)\n",
            " |-- InvoiceDate: string (nullable = true)\n",
            " |-- UnitPrice: double (nullable = true)\n",
            " |-- CustomerID: integer (nullable = true)\n",
            " |-- Country: string (nullable = true)\n",
            "\n"
          ],
          "name": "stdout"
        }
      ]
    },
    {
      "cell_type": "code",
      "metadata": {
        "colab": {
          "base_uri": "https://localhost:8080/"
        },
        "id": "ouuJ67R6Fmly",
        "outputId": "790c4385-5bc9-4d94-8201-0354d4c7a8e4"
      },
      "source": [
        "#check deskripsi dataset\n",
        "data_parq.describe().show()"
      ],
      "execution_count": null,
      "outputs": [
        {
          "output_type": "stream",
          "text": [
            "+-------+------------------+------------------+--------------------+------------------+---------------+-----------------+------------------+-----------+\n",
            "|summary|         InvoiceNo|         StockCode|         Description|          Quantity|    InvoiceDate|        UnitPrice|        CustomerID|    Country|\n",
            "+-------+------------------+------------------+--------------------+------------------+---------------+-----------------+------------------+-----------+\n",
            "|  count|            541909|            541909|              540455|            541909|         541909|           541909|            406829|     541909|\n",
            "|   mean|  559965.752026781|27623.240210938104|             20713.0|  9.55224954743324|           null|4.611113626082972|15287.690570239585|       null|\n",
            "| stddev|13428.417280800133| 16799.73762842775|                null|218.08115785023486|           null| 96.7598530611797| 1713.600303321594|       null|\n",
            "|    min|            536365|             10002| 4 PURPLE FLOCK D...|            -80995|1/10/2011 10:04|        -11062.06|             12346|  Australia|\n",
            "|    max|           C581569|                 m|   wrongly sold sets|             80995|  9/9/2011 9:52|          38970.0|             18287|Unspecified|\n",
            "+-------+------------------+------------------+--------------------+------------------+---------------+-----------------+------------------+-----------+\n",
            "\n"
          ],
          "name": "stdout"
        }
      ]
    },
    {
      "cell_type": "markdown",
      "metadata": {
        "id": "CePu_xg3vz3J"
      },
      "source": [
        "# **DATA CLEANING AND DATA MANIPULATION**"
      ]
    },
    {
      "cell_type": "markdown",
      "metadata": {
        "id": "--ordXZDwD_t"
      },
      "source": [
        "**CLEANING DATA FROM NULL VALUES**"
      ]
    },
    {
      "cell_type": "code",
      "metadata": {
        "id": "eqRVBEWOvzVO"
      },
      "source": [
        "from pyspark.sql.functions import count\n",
        "#check and remove the null values\n",
        "def my_count(df_in):\n",
        "    df_in.agg( *[ count(c).alias(c) for c in df_in.columns ] ).show()"
      ],
      "execution_count": null,
      "outputs": []
    },
    {
      "cell_type": "code",
      "metadata": {
        "id": "YeD88e9VIBgn",
        "colab": {
          "base_uri": "https://localhost:8080/"
        },
        "outputId": "cb85b480-d2d9-4917-c680-e96377189be2"
      },
      "source": [
        "my_count(data_parq)"
      ],
      "execution_count": null,
      "outputs": [
        {
          "output_type": "stream",
          "text": [
            "+---------+---------+-----------+--------+-----------+---------+----------+-------+\n",
            "|InvoiceNo|StockCode|Description|Quantity|InvoiceDate|UnitPrice|CustomerID|Country|\n",
            "+---------+---------+-----------+--------+-----------+---------+----------+-------+\n",
            "|   541909|   541909|     540455|  541909|     541909|   541909|    406829| 541909|\n",
            "+---------+---------+-----------+--------+-----------+---------+----------+-------+\n",
            "\n"
          ],
          "name": "stdout"
        }
      ]
    },
    {
      "cell_type": "markdown",
      "metadata": {
        "id": "5OztJF5_wqid"
      },
      "source": [
        "Melalui proses penghitungan, ditemukan sejumlah baris data pada setiap kolom tidak sama, pada kolom **CustomerID** terdapat nilai null. Maka record data yang memiliki nilai null akan dihapus dari frame data dengan menggunakan fungsi .dropna()"
      ]
    },
    {
      "cell_type": "code",
      "metadata": {
        "colab": {
          "base_uri": "https://localhost:8080/"
        },
        "id": "Ze288t1awgT8",
        "outputId": "2007718f-5ac3-48ad-d28b-c0792f5ceeea"
      },
      "source": [
        "ecom_data = data_parq.dropna(how='any')\n",
        "my_count(ecom_data)"
      ],
      "execution_count": null,
      "outputs": [
        {
          "output_type": "stream",
          "text": [
            "+---------+---------+-----------+--------+-----------+---------+----------+-------+\n",
            "|InvoiceNo|StockCode|Description|Quantity|InvoiceDate|UnitPrice|CustomerID|Country|\n",
            "+---------+---------+-----------+--------+-----------+---------+----------+-------+\n",
            "|   406829|   406829|     406829|  406829|     406829|   406829|    406829| 406829|\n",
            "+---------+---------+-----------+--------+-----------+---------+----------+-------+\n",
            "\n"
          ],
          "name": "stdout"
        }
      ]
    },
    {
      "cell_type": "markdown",
      "metadata": {
        "id": "seIkNp2sx4oZ"
      },
      "source": [
        "**DATA MANIPULATION**"
      ]
    },
    {
      "cell_type": "markdown",
      "metadata": {
        "id": "VU0HbYnWBKXY"
      },
      "source": [
        "**1. Manipulasi Perhitungan Total Price**"
      ]
    },
    {
      "cell_type": "markdown",
      "metadata": {
        "id": "2TPcEBp9Bbtp"
      },
      "source": [
        "Dilakukan perhitungan untuk kolom baru yakni Total Price dangan menggunakan perkalian antara Quantity dengan UnitPrice (Quantity * Unit Price)"
      ]
    },
    {
      "cell_type": "code",
      "metadata": {
        "id": "ZZCgQO-x9bd_",
        "colab": {
          "base_uri": "https://localhost:8080/"
        },
        "outputId": "1008b22c-fb3a-4b00-988b-12ea5b09e945"
      },
      "source": [
        "from pyspark.sql.functions import round\n",
        "\n",
        "ecom_data = ecom_data.withColumn('TotalPrice', round( ecom_data.Quantity * ecom_data.UnitPrice, 2 ) )\n",
        "ecom_data.show(5)"
      ],
      "execution_count": null,
      "outputs": [
        {
          "output_type": "stream",
          "text": [
            "+---------+---------+--------------------+--------+--------------+---------+----------+--------------+----------+\n",
            "|InvoiceNo|StockCode|         Description|Quantity|   InvoiceDate|UnitPrice|CustomerID|       Country|TotalPrice|\n",
            "+---------+---------+--------------------+--------+--------------+---------+----------+--------------+----------+\n",
            "|   536365|   85123A|WHITE HANGING HEA...|       6|12/1/2010 8:26|     2.55|     17850|United Kingdom|      15.3|\n",
            "|   536365|    71053| WHITE METAL LANTERN|       6|12/1/2010 8:26|     3.39|     17850|United Kingdom|     20.34|\n",
            "|   536365|   84406B|CREAM CUPID HEART...|       8|12/1/2010 8:26|     2.75|     17850|United Kingdom|      22.0|\n",
            "|   536365|   84029G|KNITTED UNION FLA...|       6|12/1/2010 8:26|     3.39|     17850|United Kingdom|     20.34|\n",
            "|   536365|   84029E|RED WOOLLY HOTTIE...|       6|12/1/2010 8:26|     3.39|     17850|United Kingdom|     20.34|\n",
            "+---------+---------+--------------------+--------+--------------+---------+----------+--------------+----------+\n",
            "only showing top 5 rows\n",
            "\n"
          ],
          "name": "stdout"
        }
      ]
    },
    {
      "cell_type": "markdown",
      "metadata": {
        "id": "QKHeOEIS_Uka"
      },
      "source": [
        "**2. Manipulasi Format Tanggal**"
      ]
    },
    {
      "cell_type": "markdown",
      "metadata": {
        "id": "EvbLCyCwx8Z1"
      },
      "source": [
        "Jika dilihat di kolom InvoiceData masih dalam format MM/dd/yy HH:mm. Dikarenakan Spark sangat sensitive terhadap format tanggal, maka diperlukan membuat sebuah kolom baru dengan nama kolom **NewInvoiceDate** dengan menggunakan value yang terdapat pada kolom InvoiceDate"
      ]
    },
    {
      "cell_type": "code",
      "metadata": {
        "id": "W2EsSyowxUlW",
        "colab": {
          "base_uri": "https://localhost:8080/"
        },
        "outputId": "353d67ba-f47e-435b-e166-264ec52ec9ee"
      },
      "source": [
        "from pyspark.sql.functions import to_date\n",
        "spark.sql(\"set spark.sql.legacy.timeParserPolicy=LEGACY\")\n",
        "ecom_data.withColumn(\"NewInvoiceDate\", to_date(col(\"InvoiceDate\"), \"MM/dd/yyyy HH:mm\")).show(5)"
      ],
      "execution_count": null,
      "outputs": [
        {
          "output_type": "stream",
          "text": [
            "+---------+---------+--------------------+--------+--------------+---------+----------+--------------+----------+--------------+\n",
            "|InvoiceNo|StockCode|         Description|Quantity|   InvoiceDate|UnitPrice|CustomerID|       Country|TotalPrice|NewInvoiceDate|\n",
            "+---------+---------+--------------------+--------+--------------+---------+----------+--------------+----------+--------------+\n",
            "|   536365|   85123A|WHITE HANGING HEA...|       6|12/1/2010 8:26|     2.55|     17850|United Kingdom|      15.3|    2010-12-01|\n",
            "|   536365|    71053| WHITE METAL LANTERN|       6|12/1/2010 8:26|     3.39|     17850|United Kingdom|     20.34|    2010-12-01|\n",
            "|   536365|   84406B|CREAM CUPID HEART...|       8|12/1/2010 8:26|     2.75|     17850|United Kingdom|      22.0|    2010-12-01|\n",
            "|   536365|   84029G|KNITTED UNION FLA...|       6|12/1/2010 8:26|     3.39|     17850|United Kingdom|     20.34|    2010-12-01|\n",
            "|   536365|   84029E|RED WOOLLY HOTTIE...|       6|12/1/2010 8:26|     3.39|     17850|United Kingdom|     20.34|    2010-12-01|\n",
            "+---------+---------+--------------------+--------+--------------+---------+----------+--------------+----------+--------------+\n",
            "only showing top 5 rows\n",
            "\n"
          ],
          "name": "stdout"
        }
      ]
    },
    {
      "cell_type": "markdown",
      "metadata": {
        "id": "3OuG553WTP4h"
      },
      "source": [
        "**3. Manipulasi Perhitungan Time Difference (Duration)**"
      ]
    },
    {
      "cell_type": "code",
      "metadata": {
        "id": "FjWTd22GS2K2"
      },
      "source": [
        "from pyspark.sql.functions import mean, min, max, sum, datediff, to_date\n",
        "\n",
        "date_max = ecom_data.select(max('NewInvoiceDate')).toPandas()\n",
        "current = to_utc_timestamp( unix_timestamp(lit(str(date_max.iloc[0][0])), \\\n",
        "                              'yy-MM-dd HH:mm').cast('timestamp'), 'UTC' )\n",
        "\n",
        "#Calculatre Duration\n",
        "ecom_data = ecom_data.withColumn('Duration', datediff(lit(current), 'NewInvoiceDate'))\n"
      ],
      "execution_count": null,
      "outputs": []
    },
    {
      "cell_type": "code",
      "metadata": {
        "id": "mBSu9nhZS2bC",
        "colab": {
          "base_uri": "https://localhost:8080/"
        },
        "outputId": "420e1c43-f290-4437-9ce0-c5c592fde30c"
      },
      "source": [
        "ecom_data.show(5)"
      ],
      "execution_count": null,
      "outputs": [
        {
          "output_type": "stream",
          "text": [
            "+---------+---------+--------------------+--------+--------------+---------+----------+--------------+----------+-------------------+--------+\n",
            "|InvoiceNo|StockCode|         Description|Quantity|   InvoiceDate|UnitPrice|CustomerID|       Country|TotalPrice|     NewInvoiceDate|Duration|\n",
            "+---------+---------+--------------------+--------+--------------+---------+----------+--------------+----------+-------------------+--------+\n",
            "|   536365|   85123A|WHITE HANGING HEA...|       6|12/1/2010 8:26|     2.55|     17850|United Kingdom|      15.3|2010-12-01 08:26:00|     373|\n",
            "|   536365|    71053| WHITE METAL LANTERN|       6|12/1/2010 8:26|     3.39|     17850|United Kingdom|     20.34|2010-12-01 08:26:00|     373|\n",
            "|   536365|   84406B|CREAM CUPID HEART...|       8|12/1/2010 8:26|     2.75|     17850|United Kingdom|      22.0|2010-12-01 08:26:00|     373|\n",
            "|   536365|   84029G|KNITTED UNION FLA...|       6|12/1/2010 8:26|     3.39|     17850|United Kingdom|     20.34|2010-12-01 08:26:00|     373|\n",
            "|   536365|   84029E|RED WOOLLY HOTTIE...|       6|12/1/2010 8:26|     3.39|     17850|United Kingdom|     20.34|2010-12-01 08:26:00|     373|\n",
            "+---------+---------+--------------------+--------+--------------+---------+----------+--------------+----------+-------------------+--------+\n",
            "only showing top 5 rows\n",
            "\n"
          ],
          "name": "stdout"
        }
      ]
    },
    {
      "cell_type": "markdown",
      "metadata": {
        "id": "ml1RGi2Pd4Sn"
      },
      "source": [
        "# **RFM ANALYSIS METHODOLOGY**"
      ]
    },
    {
      "cell_type": "markdown",
      "metadata": {
        "id": "nMIAX5v7bfNm"
      },
      "source": [
        "RFM (Recency, Frequency, and Monetary) merupakan sebuah metode yang digunakan untuk menganalisis value dari customer. RFM biasanya digunakan pada basisdata marketing dan direct marketing dan telah mendapatkan perhatian khusus dalam industri jasa retail dan profesional. Berikut merupakan rincian lebih lanjut mengenai RFM:\n",
        "\n",
        "*   Recency Value, merepresentasikan seberapa baru pelanggan membeli sesuatu? misalnya: durasi sejak pembelian terakhir\n",
        "*   Frequency Value, merepresentasikan seberapa sering pelanggan membeli? misalnya: Jumlah total pembelian\n",
        "*   Monetary Value, merepresentasikan seberapa banyak yang dibelanjakan pelanggan? misalnya: Total uang yang dihabiskan pelanggan"
      ]
    },
    {
      "cell_type": "markdown",
      "metadata": {
        "id": "uqL0OrHmHNGQ"
      },
      "source": [
        "# **RFM SEGMENTATION**"
      ]
    },
    {
      "cell_type": "markdown",
      "metadata": {
        "id": "tbvru-H3bSpR"
      },
      "source": [
        "**BUILD THE REGENCY, FREQUENCY AND MONETARY**"
      ]
    },
    {
      "cell_type": "code",
      "metadata": {
        "id": "B0a-jcwHP-3r"
      },
      "source": [
        "recency = ecom_data.groupBy('CustomerID').agg(min('Duration').alias('Recency'))\n",
        "\n",
        "frequency = ecom_data.groupBy('CustomerID', 'InvoiceNo').count()\\\n",
        "                        .groupBy('CustomerID')\\\n",
        "                        .agg(count(\"*\").alias(\"Frequency\"))\n",
        "\n",
        "monetary = ecom_data.groupBy('CustomerID').agg(round(sum('TotalPrice'), 2).alias('Monetary'))\n",
        "\n",
        "rfm = recency.join(frequency,'CustomerID', how = 'inner')\\\n",
        "             .join(monetary,'CustomerID', how = 'inner')"
      ],
      "execution_count": null,
      "outputs": []
    },
    {
      "cell_type": "code",
      "metadata": {
        "colab": {
          "base_uri": "https://localhost:8080/"
        },
        "id": "kkQ-fANyorZ-",
        "outputId": "e5a525fe-c8c2-4aec-83b9-db4e2bfadd6c"
      },
      "source": [
        "rfm.show(10)"
      ],
      "execution_count": null,
      "outputs": [
        {
          "output_type": "stream",
          "text": [
            "+----------+-------+---------+--------+\n",
            "|CustomerID|Recency|Frequency|Monetary|\n",
            "+----------+-------+---------+--------+\n",
            "|     15619|     10|        1|   336.4|\n",
            "|     17389|      0|       43|31300.08|\n",
            "|     12940|     46|        4|  876.29|\n",
            "|     13623|     30|        7|  672.44|\n",
            "|     14450|    180|        3|  483.25|\n",
            "|     15727|     16|        7| 5178.96|\n",
            "|     15790|     10|        1|  220.85|\n",
            "|     13285|     23|        4| 2709.12|\n",
            "|     14570|    280|        2|  218.06|\n",
            "|     16574|     71|        1|  451.44|\n",
            "+----------+-------+---------+--------+\n",
            "only showing top 10 rows\n",
            "\n"
          ],
          "name": "stdout"
        }
      ]
    },
    {
      "cell_type": "markdown",
      "metadata": {
        "id": "hm3ML6Vz2_36"
      },
      "source": [
        "**SEGMENTASI RFM**"
      ]
    },
    {
      "cell_type": "markdown",
      "metadata": {
        "id": "4x2mp-ji3dAw"
      },
      "source": [
        "**A. Menentukan Cutting Point**\n",
        "\n",
        "*Cutting Point* merupakan sebuah metode yang digunakan untuk memilah penggunaan suatu kriteria untuk dijadikan sebagai pertimbangan dalam pengambilan sebuah keputusan terhadap suatu masalah. Metode *Cutting Point* juga digunakan untuk memastikan seberapa penting derajat sebuah kriteria."
      ]
    },
    {
      "cell_type": "markdown",
      "metadata": {
        "id": "2Y0J5q1fBqz0"
      },
      "source": [
        "**B. Fungsi Mendefenisikan User dengan menggunakan persen Kuartil sebagai Cutting Points**\n",
        "\n",
        "Kuartil digunakan untuk membagi populasi kedalam berbagai kelompok. Misalnya untuk menemukan 25% total pengeluaran uang teratas (Monetary) pada populasi data online retail yang digunakan pada proyek adalah sebesar 293.362 "
      ]
    },
    {
      "cell_type": "code",
      "metadata": {
        "id": "JldCnLSZAPjl"
      },
      "source": [
        "def describe_pd(df_in, columns, style):\n",
        "    '''\n",
        "    Function to union the basic stats results and deciles\n",
        "    :param df_in: the input dataframe\n",
        "    :param columns: the cloumn name list of the numerical variable\n",
        "    :param style: the display style\n",
        "    :return : the numerical describe info. of the input dataframe\n",
        "    :author: MIng Chen and Wenqiang Feng\n",
        "    :email: von198@gmail.com\n",
        "    '''\n",
        "    if style == 1:\n",
        "        percentiles = [25, 50, 75]\n",
        "    else:\n",
        "        percentiles = np.array(range(0, 110, 10))\n",
        "    \n",
        "    percs = np.transpose([np.percentile(df_in.select(x).collect(), percentiles) for x in columns])\n",
        "    percs = pd.DataFrame(percs, columns=columns)\n",
        "    percs['summary'] = [str(p) + '%' for p in percentiles]\n",
        "    \n",
        "    spark_describe = df_in.describe().toPandas()\n",
        "    new_df = pd.concat([spark_describe, percs],ignore_index=True)\n",
        "    new_df = new_df.round(2)\n",
        "    return new_df[['summary'] + columns]"
      ],
      "execution_count": null,
      "outputs": []
    },
    {
      "cell_type": "code",
      "metadata": {
        "colab": {
          "base_uri": "https://localhost:8080/",
          "height": 287
        },
        "id": "BmycVBCQo46I",
        "outputId": "97d6bd60-6113-4fc0-8bc6-0cd5b34fda58"
      },
      "source": [
        "cols = ['Recency','Frequency','Monetary']\n",
        "describe_pd(rfm,cols,1)"
      ],
      "execution_count": null,
      "outputs": [
        {
          "output_type": "execute_result",
          "data": {
            "text/html": [
              "<div>\n",
              "<style scoped>\n",
              "    .dataframe tbody tr th:only-of-type {\n",
              "        vertical-align: middle;\n",
              "    }\n",
              "\n",
              "    .dataframe tbody tr th {\n",
              "        vertical-align: top;\n",
              "    }\n",
              "\n",
              "    .dataframe thead th {\n",
              "        text-align: right;\n",
              "    }\n",
              "</style>\n",
              "<table border=\"1\" class=\"dataframe\">\n",
              "  <thead>\n",
              "    <tr style=\"text-align: right;\">\n",
              "      <th></th>\n",
              "      <th>summary</th>\n",
              "      <th>Recency</th>\n",
              "      <th>Frequency</th>\n",
              "      <th>Monetary</th>\n",
              "    </tr>\n",
              "  </thead>\n",
              "  <tbody>\n",
              "    <tr>\n",
              "      <th>0</th>\n",
              "      <td>count</td>\n",
              "      <td>4372</td>\n",
              "      <td>4372</td>\n",
              "      <td>4372</td>\n",
              "    </tr>\n",
              "    <tr>\n",
              "      <th>1</th>\n",
              "      <td>mean</td>\n",
              "      <td>91.58119853613907</td>\n",
              "      <td>5.07548032936871</td>\n",
              "      <td>1898.4597003659658</td>\n",
              "    </tr>\n",
              "    <tr>\n",
              "      <th>2</th>\n",
              "      <td>stddev</td>\n",
              "      <td>100.77213931384833</td>\n",
              "      <td>9.338754163574729</td>\n",
              "      <td>8219.345141139722</td>\n",
              "    </tr>\n",
              "    <tr>\n",
              "      <th>3</th>\n",
              "      <td>min</td>\n",
              "      <td>0</td>\n",
              "      <td>1</td>\n",
              "      <td>-4287.63</td>\n",
              "    </tr>\n",
              "    <tr>\n",
              "      <th>4</th>\n",
              "      <td>max</td>\n",
              "      <td>373</td>\n",
              "      <td>248</td>\n",
              "      <td>279489.02</td>\n",
              "    </tr>\n",
              "    <tr>\n",
              "      <th>5</th>\n",
              "      <td>25%</td>\n",
              "      <td>16</td>\n",
              "      <td>1</td>\n",
              "      <td>293.362</td>\n",
              "    </tr>\n",
              "    <tr>\n",
              "      <th>6</th>\n",
              "      <td>50%</td>\n",
              "      <td>50</td>\n",
              "      <td>3</td>\n",
              "      <td>648.075</td>\n",
              "    </tr>\n",
              "    <tr>\n",
              "      <th>7</th>\n",
              "      <td>75%</td>\n",
              "      <td>143</td>\n",
              "      <td>5</td>\n",
              "      <td>1611.72</td>\n",
              "    </tr>\n",
              "  </tbody>\n",
              "</table>\n",
              "</div>"
            ],
            "text/plain": [
              "  summary             Recency          Frequency            Monetary\n",
              "0   count                4372               4372                4372\n",
              "1    mean   91.58119853613907   5.07548032936871  1898.4597003659658\n",
              "2  stddev  100.77213931384833  9.338754163574729   8219.345141139722\n",
              "3     min                   0                  1            -4287.63\n",
              "4     max                 373                248           279489.02\n",
              "5     25%                  16                  1             293.362\n",
              "6     50%                  50                  3             648.075\n",
              "7     75%                 143                  5             1611.72"
            ]
          },
          "metadata": {
            "tags": []
          },
          "execution_count": 25
        }
      ]
    },
    {
      "cell_type": "markdown",
      "metadata": {
        "id": "sVaJvynOFhwf"
      },
      "source": [
        "**C. Mendefenisikan score segmen RFM berdasarkan quartil**\n",
        "\n",
        "***Kuartil 1 (Q1) = 25%***\n",
        "\n",
        "*   Untuk score R (Recency) <= 16\n",
        "*   Untuk score F (Frequency) <= 1\n",
        "*   Untuk score M (Monetary) <= -4287.63\n",
        "\n",
        "***Kuartil 2 (Q2) = 50%***\n",
        "\n",
        "*   Untuk score R (Recency) <= 50\n",
        "*   Untuk score F (Frequency) <= 3\n",
        "*   Untuk score M (Monetary) <= 648.075\n",
        "\n",
        "***Kuartil 3 (Q3) = 70%***\n",
        "\n",
        "*   Untuk score R (Recency) <= 143\n",
        "*   Untuk score F (Frequency) <= 5\n",
        "*   Untuk score M (Monetary) <= 1611.72\n",
        "\n",
        "***Kuartil 4 (Q4)***\n",
        "\n",
        "Score R, F, M yang tepat berada lebih besar dari score untuk Kuartil 3 (70%)"
      ]
    },
    {
      "cell_type": "code",
      "metadata": {
        "id": "6tZBkg7f9LXI"
      },
      "source": [
        "def RScore(x):\n",
        "    if  x <= 16:\n",
        "        return 1\n",
        "    elif x<= 50:\n",
        "        return 2\n",
        "    elif x<= 143:\n",
        "        return 3\n",
        "    else:\n",
        "        return 4\n",
        "\n",
        "def FScore(x):\n",
        "    if  x <= 1:\n",
        "        return 4\n",
        "    elif x <= 3:\n",
        "        return 3\n",
        "    elif x <= 5:\n",
        "        return 2\n",
        "    else:\n",
        "        return 1\n",
        "\n",
        "def MScore(x):\n",
        "    if  x <= 293:\n",
        "        return 4\n",
        "    elif x <= 648:\n",
        "        return 3\n",
        "    elif x <= 1611:\n",
        "        return 2\n",
        "    else:\n",
        "        return 1\n",
        "\n",
        "from pyspark.sql.functions import udf\n",
        "from pyspark.sql.types import StringType, DoubleType\n",
        "\n",
        "R_udf = udf(lambda x: RScore(x), StringType())\n",
        "F_udf = udf(lambda x: FScore(x), StringType())\n",
        "M_udf = udf(lambda x: MScore(x), StringType())"
      ],
      "execution_count": null,
      "outputs": []
    },
    {
      "cell_type": "markdown",
      "metadata": {
        "id": "atkunovuEiZ3"
      },
      "source": [
        "**D. Implementasi Segmentasi RFM**"
      ]
    },
    {
      "cell_type": "code",
      "metadata": {
        "colab": {
          "base_uri": "https://localhost:8080/"
        },
        "id": "ireB8NYP-ib4",
        "outputId": "8fcbcc94-98bb-40e0-db2a-ec21d5b09c59"
      },
      "source": [
        "rfm_seg = rfm.withColumn(\"r_seg\", R_udf(\"Recency\"))\n",
        "rfm_seg = rfm_seg.withColumn(\"f_seg\", F_udf(\"Frequency\"))\n",
        "rfm_seg = rfm_seg.withColumn(\"m_seg\", M_udf(\"Monetary\"))\n",
        "rfm_seg.show(5)"
      ],
      "execution_count": null,
      "outputs": [
        {
          "output_type": "stream",
          "text": [
            "+----------+-------+---------+--------+-----+-----+-----+\n",
            "|CustomerID|Recency|Frequency|Monetary|r_seg|f_seg|m_seg|\n",
            "+----------+-------+---------+--------+-----+-----+-----+\n",
            "|     15619|     10|        1|   336.4|    1|    4|    3|\n",
            "|     17389|      0|       43|31300.08|    1|    1|    1|\n",
            "|     12940|     46|        4|  876.29|    2|    2|    2|\n",
            "|     13623|     30|        7|  672.44|    2|    1|    2|\n",
            "|     14450|    180|        3|  483.25|    4|    3|    3|\n",
            "+----------+-------+---------+--------+-----+-----+-----+\n",
            "only showing top 5 rows\n",
            "\n"
          ],
          "name": "stdout"
        }
      ]
    },
    {
      "cell_type": "markdown",
      "metadata": {
        "id": "OR-iBtC3GyHa"
      },
      "source": [
        "**E. Menentukan score RFM**\n",
        "\n",
        "Dengan menggabungkan score dari masing-masing segmen R, F, dan M menggunakan fungsi Concat"
      ]
    },
    {
      "cell_type": "code",
      "metadata": {
        "colab": {
          "base_uri": "https://localhost:8080/"
        },
        "id": "hxaRZRMuEr5a",
        "outputId": "41ee1f9e-51e5-4d38-d468-b32f75548c1d"
      },
      "source": [
        "from pyspark.sql import functions as F\n",
        "rfm_seg = rfm_seg.withColumn('RFMScore',\n",
        "                             F.concat(F.col('r_seg'),F.col('f_seg'), F.col('m_seg')))\n",
        "rfm_seg.sort(F.col('RFMScore')).show(10)"
      ],
      "execution_count": null,
      "outputs": [
        {
          "output_type": "stream",
          "text": [
            "+----------+-------+---------+--------+-----+-----+-----+--------+\n",
            "|CustomerID|Recency|Frequency|Monetary|r_seg|f_seg|m_seg|RFMScore|\n",
            "+----------+-------+---------+--------+-----+-----+-----+--------+\n",
            "|     13468|      1|       41| 5656.75|    1|    1|    1|     111|\n",
            "|     15594|     15|        6| 1767.53|    1|    1|    1|     111|\n",
            "|     15382|     14|        8| 5927.86|    1|    1|    1|     111|\n",
            "|     17754|      0|        6| 1739.92|    1|    1|    1|     111|\n",
            "|     16549|     10|       10| 4154.64|    1|    1|    1|     111|\n",
            "|     17389|      0|       43|31300.08|    1|    1|    1|     111|\n",
            "|     12471|      2|       49|18740.92|    1|    1|    1|     111|\n",
            "|     15727|     16|        7| 5178.96|    1|    1|    1|     111|\n",
            "|     17809|     16|       15| 4627.62|    1|    1|    1|     111|\n",
            "|     18161|     10|        6| 1612.79|    1|    1|    1|     111|\n",
            "+----------+-------+---------+--------+-----+-----+-----+--------+\n",
            "only showing top 10 rows\n",
            "\n"
          ],
          "name": "stdout"
        }
      ]
    },
    {
      "cell_type": "markdown",
      "metadata": {
        "id": "z6rvsVuBig5Z"
      },
      "source": [
        "**F. Summary RFM Segmentasi**"
      ]
    },
    {
      "cell_type": "code",
      "metadata": {
        "colab": {
          "base_uri": "https://localhost:8080/"
        },
        "id": "9dhoOj1KqPqN",
        "outputId": "28c5027c-9eec-4d6d-8a9b-4805d217f4b2"
      },
      "source": [
        "rfm_seg.groupBy('RFMScore')\\\n",
        "       .agg({'Recency':'mean',\n",
        "             'Frequency': 'mean',\n",
        "             'Monetary': 'mean'} )\\\n",
        "        .sort(F.col('RFMScore')).show(10)"
      ],
      "execution_count": null,
      "outputs": [
        {
          "output_type": "stream",
          "text": [
            "+--------+-----------------+------------------+------------------+\n",
            "|RFMScore|     avg(Recency)|     avg(Monetary)|    avg(Frequency)|\n",
            "+--------+-----------------+------------------+------------------+\n",
            "|     111|6.035123966942149| 8828.888595041324|18.882231404958677|\n",
            "|     112|7.237113402061856|1223.3604123711339| 7.752577319587629|\n",
            "|     113|              8.0|          505.9775|               7.5|\n",
            "|     114|             11.0|            191.17|               8.0|\n",
            "|     121|6.472727272727273|2569.0619999999994| 4.636363636363637|\n",
            "|     122|7.339622641509434|1022.4575471698115| 4.452830188679245|\n",
            "|     123|7.935483870967742| 522.3993548387094| 4.129032258064516|\n",
            "|     124|              9.6|            207.24|               4.4|\n",
            "|     131|7.533333333333333|3260.5020000000004|2.6666666666666665|\n",
            "|     132|7.329113924050633| 965.5102531645567|2.5822784810126582|\n",
            "+--------+-----------------+------------------+------------------+\n",
            "only showing top 10 rows\n",
            "\n"
          ],
          "name": "stdout"
        }
      ]
    },
    {
      "cell_type": "markdown",
      "metadata": {
        "id": "G-YjxQQtrSu0"
      },
      "source": [
        "# **K-MEANS CLUSTERING**"
      ]
    },
    {
      "cell_type": "markdown",
      "metadata": {
        "id": "1NtT-C8urcKb"
      },
      "source": [
        "**1. BUILD DENSE FEATURE MATRIX**"
      ]
    },
    {
      "cell_type": "code",
      "metadata": {
        "id": "0TUufUdHqT9S"
      },
      "source": [
        "from pyspark.sql import Row\n",
        "from pyspark.ml.linalg import Vectors\n",
        "\n",
        "# Method (good for large features):\n",
        "def transData(data):\n",
        "    return data.rdd.map(lambda r: [r[0],Vectors.dense(r[1:])]).toDF(['CustomerID','rfm'])"
      ],
      "execution_count": null,
      "outputs": []
    },
    {
      "cell_type": "code",
      "metadata": {
        "colab": {
          "base_uri": "https://localhost:8080/"
        },
        "id": "NiNw8qbbrzWo",
        "outputId": "e3fd65e3-044a-4eba-9708-b791730005d8"
      },
      "source": [
        "transformed = transData(rfm)\n",
        "transformed.show(5)"
      ],
      "execution_count": null,
      "outputs": [
        {
          "output_type": "stream",
          "text": [
            "+----------+-------------------+\n",
            "|CustomerID|                rfm|\n",
            "+----------+-------------------+\n",
            "|     15619|   [10.0,1.0,336.4]|\n",
            "|     17389|[0.0,43.0,31300.08]|\n",
            "|     12940|  [46.0,4.0,876.29]|\n",
            "|     13623|  [30.0,7.0,672.44]|\n",
            "|     14450| [180.0,3.0,483.25]|\n",
            "+----------+-------------------+\n",
            "only showing top 5 rows\n",
            "\n"
          ],
          "name": "stdout"
        }
      ]
    },
    {
      "cell_type": "markdown",
      "metadata": {
        "id": "HQvwkH2ixHPJ"
      },
      "source": [
        "**2. DATA NORMALIZATION**\n",
        "\n",
        "Melakukan Normalisasi data dengan menggunakan MinMax Scaler yang bekerja men-scaling/menyesuaikan data dalam rentang tertentu (range nilai minimum hingga nilai maksimum)"
      ]
    },
    {
      "cell_type": "code",
      "metadata": {
        "colab": {
          "base_uri": "https://localhost:8080/"
        },
        "id": "nPfLmIyCr2gM",
        "outputId": "8d52f167-c3bc-4991-d18f-987a52080fb6"
      },
      "source": [
        "#Scaler the feature matrix\n",
        "from pyspark.ml.feature import MinMaxScaler\n",
        "\n",
        "scaler = MinMaxScaler(inputCol=\"rfm\",\\\n",
        "         outputCol=\"features\")\n",
        "scalerModel =  scaler.fit(transformed)\n",
        "scaledData = scalerModel.transform(transformed)\n",
        "scaledData.show(5,False)"
      ],
      "execution_count": null,
      "outputs": [
        {
          "output_type": "stream",
          "text": [
            "+----------+-------------------+---------------------------------------------------------------+\n",
            "|CustomerID|rfm                |features                                                       |\n",
            "+----------+-------------------+---------------------------------------------------------------+\n",
            "|15619     |[10.0,1.0,336.4]   |[0.02680965147453083,0.0,0.016294610567853272]                 |\n",
            "|17389     |[0.0,43.0,31300.08]|[0.0,0.1700404858299595,0.12540746393334334]                   |\n",
            "|12940     |[46.0,4.0,876.29]  |[0.12332439678284182,0.012145748987854251,0.01819712791732512] |\n",
            "|13623     |[30.0,7.0,672.44]  |[0.08042895442359249,0.024291497975708502,0.017478781288030567]|\n",
            "|14450     |[180.0,3.0,483.25] |[0.48257372654155495,0.008097165991902834,0.016812095004997765]|\n",
            "+----------+-------------------+---------------------------------------------------------------+\n",
            "only showing top 5 rows\n",
            "\n"
          ],
          "name": "stdout"
        }
      ]
    },
    {
      "cell_type": "markdown",
      "metadata": {
        "id": "E5MosNaDyA-J"
      },
      "source": [
        "**3. MENENTUKAN JUMLAH CLUSTER OPTIMAL**"
      ]
    },
    {
      "cell_type": "markdown",
      "metadata": {
        "id": "TLyQUjReyJZ4"
      },
      "source": [
        "Cara yang paling baik digunakan untuk menentukan jumlah cluster yang paling optimal adalah dapat dengan menggunakan analisis Silhouette\n",
        "\n",
        "**a. Nilai Silhouette apabila diassign K = 3**"
      ]
    },
    {
      "cell_type": "code",
      "metadata": {
        "colab": {
          "base_uri": "https://localhost:8080/"
        },
        "id": "445OIej98CCv",
        "outputId": "6bf81501-dc45-4339-d5f3-753b884ffeb3"
      },
      "source": [
        "import numpy as np\n",
        "from pyspark.ml.clustering import KMeans\n",
        "from pyspark.ml.clustering import KMeansModel\n",
        "from pyspark.ml.evaluation import ClusteringEvaluator\n",
        "import matplotlib.pyplot as plt\n",
        "%matplotlib inline \n",
        "\n",
        "kmeans = KMeans().setK(3).setSeed(1)\n",
        "model = kmeans.fit(scaledData)\n",
        "\n",
        "#Make predictions, i.e., get cluster index\n",
        "predictions = model.transform(scaledData)\n",
        "\n",
        "#Evaluate clustering by computing Silhouette score\n",
        "evaluator = ClusteringEvaluator()\n",
        "\n",
        "silhouettes = evaluator.evaluate(predictions)\n",
        "print(\"Silhouette with squared euclidean distance = \" + str(silhouettes))\n",
        "\n",
        "# Shows the result.\n",
        "centers = model.clusterCenters()\n",
        "print(\"Cluster Centers: \")\n",
        "for center in centers:\n",
        "    print(center)"
      ],
      "execution_count": null,
      "outputs": [
        {
          "output_type": "stream",
          "text": [
            "Silhouette with squared euclidean distance = 0.8045154385557955\n",
            "Cluster Centers: \n",
            "[0.08223703 0.02240483 0.02410349]\n",
            "[0.79062677 0.00226695 0.01653601]\n",
            "[0.40872322 0.00631499 0.01759697]\n"
          ],
          "name": "stdout"
        }
      ]
    },
    {
      "cell_type": "markdown",
      "metadata": {
        "id": "CjHnTdorAOuN"
      },
      "source": [
        "**b. Nilai Silhouette apabila diassign K = 4**"
      ]
    },
    {
      "cell_type": "code",
      "metadata": {
        "colab": {
          "base_uri": "https://localhost:8080/"
        },
        "id": "h5yU-er2AOIP",
        "outputId": "4dfaa36f-a3fb-4404-c18d-b76ab0bddee7"
      },
      "source": [
        "kmeans_4 = KMeans().setK(4).setSeed(1)\n",
        "model = kmeans_4.fit(scaledData)\n",
        "\n",
        "#Make predictions, i.e., get cluster index\n",
        "predictions = model.transform(scaledData)\n",
        "\n",
        "#Evaluate clustering by computing Silhouette score\n",
        "evaluator = ClusteringEvaluator()\n",
        "\n",
        "silhouettes = evaluator.evaluate(predictions)\n",
        "print(\"Silhouette with squared euclidean distance = \" + str(silhouettes))\n",
        "\n",
        "# Shows the result.\n",
        "centers = model.clusterCenters()\n",
        "print(\"Cluster Centers: \")\n",
        "for center in centers:\n",
        "    print(center)"
      ],
      "execution_count": null,
      "outputs": [
        {
          "output_type": "stream",
          "text": [
            "Silhouette with squared euclidean distance = 0.7009137758888742\n",
            "Cluster Centers: \n",
            "[0.51005792 0.00498936 0.0171829 ]\n",
            "[0.04826729 0.02724511 0.02602839]\n",
            "[0.82944081 0.00216831 0.01637697]\n",
            "[0.21414675 0.0083373  0.01853346]\n"
          ],
          "name": "stdout"
        }
      ]
    },
    {
      "cell_type": "markdown",
      "metadata": {
        "id": "zc93H-7PAoPw"
      },
      "source": [
        "**c. Nilai Silhouette apabila diassign K = 5**"
      ]
    },
    {
      "cell_type": "code",
      "metadata": {
        "colab": {
          "base_uri": "https://localhost:8080/"
        },
        "id": "Bk6E372S4t9g",
        "outputId": "dc023628-ce5d-46e9-a928-a710e96b7052"
      },
      "source": [
        "kmeans_5 = KMeans().setK(5).setSeed(1)\n",
        "model = kmeans_5.fit(scaledData)\n",
        "\n",
        "#Make predictions, i.e., get cluster index\n",
        "predictions = model.transform(scaledData)\n",
        "\n",
        "#Evaluate clustering by computing Silhouette score\n",
        "evaluator = ClusteringEvaluator()\n",
        "\n",
        "silhouettes = evaluator.evaluate(predictions)\n",
        "print(\"Silhouette with squared euclidean distance = \" + str(silhouettes))\n",
        "\n",
        "# Shows the result.\n",
        "centers = model.clusterCenters()\n",
        "print(\"Cluster Centers: \")\n",
        "for center in centers:\n",
        "    print(center)"
      ],
      "execution_count": null,
      "outputs": [
        {
          "output_type": "stream",
          "text": [
            "Silhouette with squared euclidean distance = 0.6713448363173243\n",
            "Cluster Centers: \n",
            "[0.65278766 0.00285512 0.01685058]\n",
            "[0.04338795 0.02841605 0.02649592]\n",
            "[0.89527268 0.00219085 0.01625428]\n",
            "[0.18408955 0.00881478 0.01867881]\n",
            "[0.41229736 0.00625071 0.01752903]\n"
          ],
          "name": "stdout"
        }
      ]
    },
    {
      "cell_type": "markdown",
      "metadata": {
        "id": "sQhnyARPBE2l"
      },
      "source": [
        "**4. IMPLEMENTASI K-MEANS CLUSTERING**"
      ]
    },
    {
      "cell_type": "code",
      "metadata": {
        "colab": {
          "base_uri": "https://localhost:8080/"
        },
        "id": "qisICk9rAyN1",
        "outputId": "55a07a28-ca5b-4a94-9f7e-b63ae4ecf5f0"
      },
      "source": [
        "k = 3\n",
        "kmeans = KMeans().setK(k).setSeed(1)\n",
        "model = kmeans.fit(scaledData)\n",
        "#Make predictions\n",
        "predictions = model.transform(scaledData)\n",
        "predictions.show(5,False)"
      ],
      "execution_count": null,
      "outputs": [
        {
          "output_type": "stream",
          "text": [
            "+----------+-------------------+---------------------------------------------------------------+----------+\n",
            "|CustomerID|rfm                |features                                                       |prediction|\n",
            "+----------+-------------------+---------------------------------------------------------------+----------+\n",
            "|15619     |[10.0,1.0,336.4]   |[0.02680965147453083,0.0,0.016294610567853272]                 |0         |\n",
            "|17389     |[0.0,43.0,31300.08]|[0.0,0.1700404858299595,0.12540746393334334]                   |0         |\n",
            "|12940     |[46.0,4.0,876.29]  |[0.12332439678284182,0.012145748987854251,0.01819712791732512] |0         |\n",
            "|13623     |[30.0,7.0,672.44]  |[0.08042895442359249,0.024291497975708502,0.017478781288030567]|0         |\n",
            "|14450     |[180.0,3.0,483.25] |[0.48257372654155495,0.008097165991902834,0.016812095004997765]|2         |\n",
            "+----------+-------------------+---------------------------------------------------------------+----------+\n",
            "only showing top 5 rows\n",
            "\n"
          ],
          "name": "stdout"
        }
      ]
    },
    {
      "cell_type": "markdown",
      "metadata": {
        "id": "ANJejlc5Bxt2"
      },
      "source": [
        "**5. STATISTICAL SUMMARY**"
      ]
    },
    {
      "cell_type": "code",
      "metadata": {
        "colab": {
          "base_uri": "https://localhost:8080/"
        },
        "id": "kJFwM92KBbaR",
        "outputId": "5744bfb4-5a2d-472f-8924-0b67afee72eb"
      },
      "source": [
        "results = rfm.join(predictions.select('CustomerID','prediction'),'CustomerID',how='left')\n",
        "results.show(10)"
      ],
      "execution_count": null,
      "outputs": [
        {
          "output_type": "stream",
          "text": [
            "+----------+-------+---------+--------+----------+\n",
            "|CustomerID|Recency|Frequency|Monetary|prediction|\n",
            "+----------+-------+---------+--------+----------+\n",
            "|     13098|      1|       41|28658.88|         0|\n",
            "|     13248|    124|        2|  465.68|         2|\n",
            "|     13452|    259|        2|   590.0|         1|\n",
            "|     13460|     29|        2|  183.44|         0|\n",
            "|     13518|     85|        1|  659.44|         0|\n",
            "|     13638|     15|        1|  122.64|         0|\n",
            "|     13723|    217|        1|  199.85|         2|\n",
            "|     14117|    143|        1|    90.0|         2|\n",
            "|     14719|      1|        6| 1592.18|         0|\n",
            "|     15057|    275|        2|  1489.5|         1|\n",
            "+----------+-------+---------+--------+----------+\n",
            "only showing top 10 rows\n",
            "\n"
          ],
          "name": "stdout"
        }
      ]
    },
    {
      "cell_type": "code",
      "metadata": {
        "colab": {
          "base_uri": "https://localhost:8080/"
        },
        "id": "dr7fgEDAQQ_q",
        "outputId": "da3ac6af-1800-42dd-8c0e-4a66b4d796c4"
      },
      "source": [
        "finalrfm = results.withColumn(\"r_seg\", R_udf(\"Recency\"))\n",
        "finalrfm = finalrfm.withColumn(\"f_seg\", F_udf(\"Frequency\"))\n",
        "finalrfm = finalrfm.withColumn(\"m_seg\", M_udf(\"Monetary\"))\n",
        "finalrfm.show(5)"
      ],
      "execution_count": null,
      "outputs": [
        {
          "output_type": "stream",
          "text": [
            "+----------+-------+---------+--------+----------+-----+-----+-----+\n",
            "|CustomerID|Recency|Frequency|Monetary|prediction|r_seg|f_seg|m_seg|\n",
            "+----------+-------+---------+--------+----------+-----+-----+-----+\n",
            "|     13098|      1|       41|28658.88|         0|    1|    1|    1|\n",
            "|     13248|    124|        2|  465.68|         2|    3|    3|    3|\n",
            "|     13452|    259|        2|   590.0|         1|    4|    3|    3|\n",
            "|     13460|     29|        2|  183.44|         0|    2|    3|    4|\n",
            "|     13518|     85|        1|  659.44|         0|    3|    4|    2|\n",
            "+----------+-------+---------+--------+----------+-----+-----+-----+\n",
            "only showing top 5 rows\n",
            "\n"
          ],
          "name": "stdout"
        }
      ]
    },
    {
      "cell_type": "code",
      "metadata": {
        "colab": {
          "base_uri": "https://localhost:8080/"
        },
        "id": "Ly2IMWs0VC9v",
        "outputId": "84db973d-bf0b-4dc6-8da0-8b68e9f97d6a"
      },
      "source": [
        "datafinal = finalrfm.withColumn('RFMScore',\n",
        "                             F.concat(F.col('r_seg'),F.col('f_seg'), F.col('m_seg')))\n",
        "datafinal.show(10)"
      ],
      "execution_count": null,
      "outputs": [
        {
          "output_type": "stream",
          "text": [
            "+----------+-------+---------+--------+----------+-----+-----+-----+--------+\n",
            "|CustomerID|Recency|Frequency|Monetary|prediction|r_seg|f_seg|m_seg|RFMScore|\n",
            "+----------+-------+---------+--------+----------+-----+-----+-----+--------+\n",
            "|     13098|      1|       41|28658.88|         0|    1|    1|    1|     111|\n",
            "|     13248|    124|        2|  465.68|         2|    3|    3|    3|     333|\n",
            "|     13452|    259|        2|   590.0|         1|    4|    3|    3|     433|\n",
            "|     13460|     29|        2|  183.44|         0|    2|    3|    4|     234|\n",
            "|     13518|     85|        1|  659.44|         0|    3|    4|    2|     342|\n",
            "|     13638|     15|        1|  122.64|         0|    1|    4|    4|     144|\n",
            "|     13723|    217|        1|  199.85|         2|    4|    4|    4|     444|\n",
            "|     14117|    143|        1|    90.0|         2|    3|    4|    4|     344|\n",
            "|     14719|      1|        6| 1592.18|         0|    1|    1|    2|     112|\n",
            "|     15057|    275|        2|  1489.5|         1|    4|    3|    2|     432|\n",
            "+----------+-------+---------+--------+----------+-----+-----+-----+--------+\n",
            "only showing top 10 rows\n",
            "\n"
          ],
          "name": "stdout"
        }
      ]
    },
    {
      "cell_type": "code",
      "metadata": {
        "id": "T8Qj3kWFDqO-"
      },
      "source": [
        "datafinal.toPandas().to_csv(\"/content/drive/MyDrive/PROYEK PBD/dataset/rfmquantil.csv\")"
      ],
      "execution_count": null,
      "outputs": []
    },
    {
      "cell_type": "code",
      "metadata": {
        "id": "dcqlAIl6XsRo"
      },
      "source": [
        "datafinal.toPandas().to_csv(\"D:\\KULIAH Tingkat 4\\rfmquantil.csv\")"
      ],
      "execution_count": null,
      "outputs": []
    },
    {
      "cell_type": "code",
      "metadata": {
        "id": "u6ZfjVCaYQ8-"
      },
      "source": [
        ""
      ],
      "execution_count": null,
      "outputs": []
    }
  ]
}